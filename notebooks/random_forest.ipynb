{
 "cells": [
  {
   "cell_type": "markdown",
   "id": "brown-reconstruction",
   "metadata": {},
   "source": [
    "# Breast cancer prediction using Random Forest"
   ]
  },
  {
   "cell_type": "markdown",
   "id": "figured-muscle",
   "metadata": {},
   "source": [
    "This notebook is an attempt to solve an exercise problem - **maximize recall for breast cancer recurrence prediction**. "
   ]
  },
  {
   "cell_type": "markdown",
   "id": "recent-consciousness",
   "metadata": {},
   "source": [
    "This breast cancer domain was obtained from the University Medical Centre, Institute of Oncology, Ljubljana, Yugoslavia ([source](https://archive.ics.uci.edu/ml/datasets/Breast+Cancer)).\n",
    "<br>\n",
    "Thanks go to M. Zwitter and M. Soklic for providing the data."
   ]
  },
  {
   "cell_type": "markdown",
   "id": "experienced-conditions",
   "metadata": {},
   "source": [
    "## Imports and loading the data"
   ]
  },
  {
   "cell_type": "code",
   "execution_count": 1,
   "id": "controversial-upgrade",
   "metadata": {},
   "outputs": [],
   "source": [
    "import pandas as pd\n",
    "import numpy as np\n",
    "\n",
    "import matplotlib.pyplot as plt\n",
    "\n",
    "from sklearn.impute import SimpleImputer\n",
    "from sklearn.ensemble import RandomForestClassifier\n",
    "from sklearn.model_selection import train_test_split, StratifiedKFold, GridSearchCV\n",
    "from sklearn.metrics import plot_confusion_matrix, accuracy_score, recall_score, precision_recall_curve"
   ]
  },
  {
   "cell_type": "code",
   "execution_count": 2,
   "id": "polish-connection",
   "metadata": {},
   "outputs": [
    {
     "data": {
      "text/html": [
       "<div>\n",
       "<style scoped>\n",
       "    .dataframe tbody tr th:only-of-type {\n",
       "        vertical-align: middle;\n",
       "    }\n",
       "\n",
       "    .dataframe tbody tr th {\n",
       "        vertical-align: top;\n",
       "    }\n",
       "\n",
       "    .dataframe thead th {\n",
       "        text-align: right;\n",
       "    }\n",
       "</style>\n",
       "<table border=\"1\" class=\"dataframe\">\n",
       "  <thead>\n",
       "    <tr style=\"text-align: right;\">\n",
       "      <th></th>\n",
       "      <th>class</th>\n",
       "      <th>age</th>\n",
       "      <th>menopause</th>\n",
       "      <th>tumor-size</th>\n",
       "      <th>inv-nodes</th>\n",
       "      <th>node-caps</th>\n",
       "      <th>deg-malig</th>\n",
       "      <th>breast</th>\n",
       "      <th>breast-quad</th>\n",
       "      <th>irradiat</th>\n",
       "    </tr>\n",
       "  </thead>\n",
       "  <tbody>\n",
       "    <tr>\n",
       "      <th>0</th>\n",
       "      <td>no-recurrence-events</td>\n",
       "      <td>30-39</td>\n",
       "      <td>premeno</td>\n",
       "      <td>30-34</td>\n",
       "      <td>0-2</td>\n",
       "      <td>no</td>\n",
       "      <td>3</td>\n",
       "      <td>left</td>\n",
       "      <td>left_low</td>\n",
       "      <td>no</td>\n",
       "    </tr>\n",
       "    <tr>\n",
       "      <th>1</th>\n",
       "      <td>no-recurrence-events</td>\n",
       "      <td>40-49</td>\n",
       "      <td>premeno</td>\n",
       "      <td>20-24</td>\n",
       "      <td>0-2</td>\n",
       "      <td>no</td>\n",
       "      <td>2</td>\n",
       "      <td>right</td>\n",
       "      <td>right_up</td>\n",
       "      <td>no</td>\n",
       "    </tr>\n",
       "    <tr>\n",
       "      <th>2</th>\n",
       "      <td>no-recurrence-events</td>\n",
       "      <td>40-49</td>\n",
       "      <td>premeno</td>\n",
       "      <td>20-24</td>\n",
       "      <td>0-2</td>\n",
       "      <td>no</td>\n",
       "      <td>2</td>\n",
       "      <td>left</td>\n",
       "      <td>left_low</td>\n",
       "      <td>no</td>\n",
       "    </tr>\n",
       "    <tr>\n",
       "      <th>3</th>\n",
       "      <td>no-recurrence-events</td>\n",
       "      <td>60-69</td>\n",
       "      <td>ge40</td>\n",
       "      <td>15-19</td>\n",
       "      <td>0-2</td>\n",
       "      <td>no</td>\n",
       "      <td>2</td>\n",
       "      <td>right</td>\n",
       "      <td>left_up</td>\n",
       "      <td>no</td>\n",
       "    </tr>\n",
       "    <tr>\n",
       "      <th>4</th>\n",
       "      <td>no-recurrence-events</td>\n",
       "      <td>40-49</td>\n",
       "      <td>premeno</td>\n",
       "      <td>0-4</td>\n",
       "      <td>0-2</td>\n",
       "      <td>no</td>\n",
       "      <td>2</td>\n",
       "      <td>right</td>\n",
       "      <td>right_low</td>\n",
       "      <td>no</td>\n",
       "    </tr>\n",
       "  </tbody>\n",
       "</table>\n",
       "</div>"
      ],
      "text/plain": [
       "                  class    age menopause tumor-size inv-nodes node-caps  \\\n",
       "0  no-recurrence-events  30-39   premeno      30-34       0-2        no   \n",
       "1  no-recurrence-events  40-49   premeno      20-24       0-2        no   \n",
       "2  no-recurrence-events  40-49   premeno      20-24       0-2        no   \n",
       "3  no-recurrence-events  60-69      ge40      15-19       0-2        no   \n",
       "4  no-recurrence-events  40-49   premeno        0-4       0-2        no   \n",
       "\n",
       "   deg-malig breast breast-quad irradiat  \n",
       "0          3   left    left_low       no  \n",
       "1          2  right    right_up       no  \n",
       "2          2   left    left_low       no  \n",
       "3          2  right     left_up       no  \n",
       "4          2  right   right_low       no  "
      ]
     },
     "execution_count": 2,
     "metadata": {},
     "output_type": "execute_result"
    }
   ],
   "source": [
    "# using info from breast-cancer.names file to specify columns names\n",
    "df = pd.read_csv('../data/breast-cancer.data',\n",
    "                names = ['class', 'age', 'menopause', 'tumor-size', \n",
    "                           'inv-nodes', 'node-caps', 'deg-malig', \n",
    "                          'breast', 'breast-quad', 'irradiat'])\n",
    "df.head()"
   ]
  },
  {
   "cell_type": "code",
   "execution_count": 3,
   "id": "quantitative-intervention",
   "metadata": {},
   "outputs": [
    {
     "data": {
      "text/plain": [
       "class          object\n",
       "age            object\n",
       "menopause      object\n",
       "tumor-size     object\n",
       "inv-nodes      object\n",
       "node-caps      object\n",
       "deg-malig       int64\n",
       "breast         object\n",
       "breast-quad    object\n",
       "irradiat       object\n",
       "dtype: object"
      ]
     },
     "execution_count": 3,
     "metadata": {},
     "output_type": "execute_result"
    }
   ],
   "source": [
    "df.dtypes"
   ]
  },
  {
   "cell_type": "markdown",
   "id": "committed-pixel",
   "metadata": {},
   "source": [
    "The dataset **contains categorical features only**."
   ]
  },
  {
   "cell_type": "markdown",
   "id": "effective-frost",
   "metadata": {},
   "source": [
    "## Features explanation"
   ]
  },
  {
   "cell_type": "markdown",
   "id": "illegal-uruguay",
   "metadata": {},
   "source": [
    "Let's understand what some of the features mean."
   ]
  },
  {
   "cell_type": "markdown",
   "id": "starting-phenomenon",
   "metadata": {},
   "source": [
    "### `menopause`"
   ]
  },
  {
   "cell_type": "code",
   "execution_count": 4,
   "id": "transsexual-issue",
   "metadata": {},
   "outputs": [
    {
     "data": {
      "text/plain": [
       "array(['premeno', 'ge40', 'lt40'], dtype=object)"
      ]
     },
     "execution_count": 4,
     "metadata": {},
     "output_type": "execute_result"
    }
   ],
   "source": [
    "pd.unique(df['menopause']) # get all possible categories"
   ]
  },
  {
   "cell_type": "markdown",
   "id": "smaller-department",
   "metadata": {},
   "source": [
    "*menopause* - is the time in women's lives when menstrual periods stop permanently. **Menopause typically occurs between 49 and 52 years of age.** Women who have a functional disorder affecting the reproductive system can go into menopause at a younger age than the normal timeframe. **The functional disorders often significantly speed up the menopausal process** ([wikipedia](https://en.wikipedia.org/wiki/Menopause))."
   ]
  },
  {
   "cell_type": "markdown",
   "id": "aquatic-shield",
   "metadata": {},
   "source": [
    "It might be the case that the earlier menopause occurs, the greater chance for cancer problems is. <br>\n",
    "Meaning of `menopause` categories:\n",
    "* `premeno` - no menopause yet;\n",
    "* `ge40` - menopause occured at age greater or equal 40;\n",
    "* `lt40` - menopause occured at age less than 40."
   ]
  },
  {
   "cell_type": "markdown",
   "id": "present-watershed",
   "metadata": {},
   "source": [
    "### `inv-nodes`"
   ]
  },
  {
   "cell_type": "markdown",
   "id": "becoming-lewis",
   "metadata": {},
   "source": [
    "Unfortunately, I haven't found any clear explanation, but it definitely concerns lymph nodes. <br>\n",
    "I assume that bins denote numbers of **inv**olved **nodes** (how many nodes already affected by cancer cells) because numbers are adequate."
   ]
  },
  {
   "cell_type": "markdown",
   "id": "annual-perspective",
   "metadata": {},
   "source": [
    "### `node-caps`"
   ]
  },
  {
   "cell_type": "markdown",
   "id": "approved-shuttle",
   "metadata": {},
   "source": [
    "According to [this question](https://answers.yahoo.com/question/index?qid=20141205102236AAQMYNu&guccounter=1&guce_referrer=aHR0cHM6Ly9kdWNrZHVja2dvLmNvbS8&guce_referrer_sig=AQAAAFC-AHSY0JX2npkIsaBTPC0u9gOILNOhCnrDEA7lZ8FM8OUmBVLrVaNANd01eAnDdT7iAmVOC41Xy1fLfXHn_f1o0lp8Nt3_aU7w23ZblV5v-EWDnOYR2p24TYJlkS0y3u-9fZXpShuJKCeMe4owcorftrCwu_plMM9_qOMeOdN1) `node-caps` feature indicates whether cancer reached the outer layer of lymph nodes."
   ]
  },
  {
   "cell_type": "markdown",
   "id": "multiple-shakespeare",
   "metadata": {},
   "source": [
    "### Summary"
   ]
  },
  {
   "cell_type": "markdown",
   "id": "greek-samba",
   "metadata": {},
   "source": [
    "Features description:\n",
    "* `class` - whether recurrence of cancer occured;\n",
    "* `age` - bins of 10;\n",
    "* `menopause` - did patient already underwent menopause (when if so);\n",
    "* `tumor-size`;\n",
    "* `inv-nodes` - number of lymph nodes affected by cancer;\n",
    "* `node-caps` - whether cancer reached the outer layer of lymph nodes;\n",
    "* `irradiat` - whether patient was treated with radiation. "
   ]
  },
  {
   "cell_type": "markdown",
   "id": "practical-durham",
   "metadata": {},
   "source": [
    "## EDA"
   ]
  },
  {
   "cell_type": "markdown",
   "id": "focused-family",
   "metadata": {},
   "source": [
    "### Basic info"
   ]
  },
  {
   "cell_type": "code",
   "execution_count": 5,
   "id": "earlier-conservation",
   "metadata": {},
   "outputs": [
    {
     "data": {
      "text/plain": [
       "(286, 10)"
      ]
     },
     "execution_count": 5,
     "metadata": {},
     "output_type": "execute_result"
    }
   ],
   "source": [
    "df.shape"
   ]
  },
  {
   "cell_type": "code",
   "execution_count": 6,
   "id": "adjusted-forward",
   "metadata": {},
   "outputs": [
    {
     "data": {
      "text/plain": [
       "no-recurrence-events    201\n",
       "recurrence-events        85\n",
       "Name: class, dtype: int64"
      ]
     },
     "execution_count": 6,
     "metadata": {},
     "output_type": "execute_result"
    }
   ],
   "source": [
    "# target classes distribution\n",
    "df['class'].value_counts()"
   ]
  },
  {
   "cell_type": "markdown",
   "id": "rotary-factory",
   "metadata": {},
   "source": [
    "The dataset is **not well-balanced** but it's not skewed either."
   ]
  },
  {
   "cell_type": "markdown",
   "id": "australian-architect",
   "metadata": {},
   "source": [
    "### Missing values"
   ]
  },
  {
   "cell_type": "markdown",
   "id": "wireless-probability",
   "metadata": {},
   "source": [
    "According to the dataset description, there are some missing values denoted with `?`."
   ]
  },
  {
   "cell_type": "code",
   "execution_count": 7,
   "id": "stylish-parking",
   "metadata": {},
   "outputs": [],
   "source": [
    "df = df.replace(['?'], np.nan)"
   ]
  },
  {
   "cell_type": "code",
   "execution_count": 8,
   "id": "communist-triangle",
   "metadata": {},
   "outputs": [
    {
     "data": {
      "text/plain": [
       "class          0\n",
       "age            0\n",
       "menopause      0\n",
       "tumor-size     0\n",
       "inv-nodes      0\n",
       "node-caps      8\n",
       "deg-malig      0\n",
       "breast         0\n",
       "breast-quad    1\n",
       "irradiat       0\n",
       "dtype: int64"
      ]
     },
     "execution_count": 8,
     "metadata": {},
     "output_type": "execute_result"
    }
   ],
   "source": [
    "# isnull() returns df with boolean values\n",
    "# sum() sums each column (True = 1, False = 0)\n",
    "df.isnull().sum()"
   ]
  },
  {
   "cell_type": "markdown",
   "id": "protective-junction",
   "metadata": {},
   "source": [
    "Numbers of missing values matches numbers mentioned in the dataset description."
   ]
  },
  {
   "cell_type": "markdown",
   "id": "fuzzy-control",
   "metadata": {},
   "source": [
    "There are many ways of imputing missing values. I am going to utilize a **mode within each class** as kNN is not feasable for so many categorical variables."
   ]
  },
  {
   "cell_type": "markdown",
   "id": "responsible-survey",
   "metadata": {},
   "source": [
    "I'll change the target variable name and labels for convenience."
   ]
  },
  {
   "cell_type": "code",
   "execution_count": 9,
   "id": "derived-stage",
   "metadata": {},
   "outputs": [],
   "source": [
    "df = df.rename(columns = {'class': 'recurrence'})\n",
    "df = df.replace(['no-recurrence-events'], 'no')\n",
    "df = df.replace(['recurrence-events'], 'yes')"
   ]
  },
  {
   "cell_type": "code",
   "execution_count": 10,
   "id": "quick-mechanics",
   "metadata": {},
   "outputs": [
    {
     "data": {
      "text/html": [
       "<div>\n",
       "<style scoped>\n",
       "    .dataframe tbody tr th:only-of-type {\n",
       "        vertical-align: middle;\n",
       "    }\n",
       "\n",
       "    .dataframe tbody tr th {\n",
       "        vertical-align: top;\n",
       "    }\n",
       "\n",
       "    .dataframe thead th {\n",
       "        text-align: right;\n",
       "    }\n",
       "</style>\n",
       "<table border=\"1\" class=\"dataframe\">\n",
       "  <thead>\n",
       "    <tr style=\"text-align: right;\">\n",
       "      <th></th>\n",
       "      <th>recurrence</th>\n",
       "      <th>age</th>\n",
       "      <th>menopause</th>\n",
       "      <th>tumor-size</th>\n",
       "      <th>inv-nodes</th>\n",
       "      <th>node-caps</th>\n",
       "      <th>deg-malig</th>\n",
       "      <th>breast</th>\n",
       "      <th>breast-quad</th>\n",
       "      <th>irradiat</th>\n",
       "    </tr>\n",
       "  </thead>\n",
       "  <tbody>\n",
       "    <tr>\n",
       "      <th>0</th>\n",
       "      <td>no</td>\n",
       "      <td>30-39</td>\n",
       "      <td>premeno</td>\n",
       "      <td>30-34</td>\n",
       "      <td>0-2</td>\n",
       "      <td>no</td>\n",
       "      <td>3</td>\n",
       "      <td>left</td>\n",
       "      <td>left_low</td>\n",
       "      <td>no</td>\n",
       "    </tr>\n",
       "    <tr>\n",
       "      <th>1</th>\n",
       "      <td>no</td>\n",
       "      <td>40-49</td>\n",
       "      <td>premeno</td>\n",
       "      <td>20-24</td>\n",
       "      <td>0-2</td>\n",
       "      <td>no</td>\n",
       "      <td>2</td>\n",
       "      <td>right</td>\n",
       "      <td>right_up</td>\n",
       "      <td>no</td>\n",
       "    </tr>\n",
       "    <tr>\n",
       "      <th>2</th>\n",
       "      <td>no</td>\n",
       "      <td>40-49</td>\n",
       "      <td>premeno</td>\n",
       "      <td>20-24</td>\n",
       "      <td>0-2</td>\n",
       "      <td>no</td>\n",
       "      <td>2</td>\n",
       "      <td>left</td>\n",
       "      <td>left_low</td>\n",
       "      <td>no</td>\n",
       "    </tr>\n",
       "    <tr>\n",
       "      <th>3</th>\n",
       "      <td>no</td>\n",
       "      <td>60-69</td>\n",
       "      <td>ge40</td>\n",
       "      <td>15-19</td>\n",
       "      <td>0-2</td>\n",
       "      <td>no</td>\n",
       "      <td>2</td>\n",
       "      <td>right</td>\n",
       "      <td>left_up</td>\n",
       "      <td>no</td>\n",
       "    </tr>\n",
       "    <tr>\n",
       "      <th>4</th>\n",
       "      <td>no</td>\n",
       "      <td>40-49</td>\n",
       "      <td>premeno</td>\n",
       "      <td>0-4</td>\n",
       "      <td>0-2</td>\n",
       "      <td>no</td>\n",
       "      <td>2</td>\n",
       "      <td>right</td>\n",
       "      <td>right_low</td>\n",
       "      <td>no</td>\n",
       "    </tr>\n",
       "  </tbody>\n",
       "</table>\n",
       "</div>"
      ],
      "text/plain": [
       "  recurrence    age menopause tumor-size inv-nodes node-caps  deg-malig  \\\n",
       "0         no  30-39   premeno      30-34       0-2        no          3   \n",
       "1         no  40-49   premeno      20-24       0-2        no          2   \n",
       "2         no  40-49   premeno      20-24       0-2        no          2   \n",
       "3         no  60-69      ge40      15-19       0-2        no          2   \n",
       "4         no  40-49   premeno        0-4       0-2        no          2   \n",
       "\n",
       "  breast breast-quad irradiat  \n",
       "0   left    left_low       no  \n",
       "1  right    right_up       no  \n",
       "2   left    left_low       no  \n",
       "3  right     left_up       no  \n",
       "4  right   right_low       no  "
      ]
     },
     "execution_count": 10,
     "metadata": {},
     "output_type": "execute_result"
    }
   ],
   "source": [
    "# sanity check 1 \n",
    "df.head()"
   ]
  },
  {
   "cell_type": "code",
   "execution_count": 11,
   "id": "arbitrary-vitamin",
   "metadata": {},
   "outputs": [
    {
     "data": {
      "text/plain": [
       "array(['no', 'yes'], dtype=object)"
      ]
     },
     "execution_count": 11,
     "metadata": {},
     "output_type": "execute_result"
    }
   ],
   "source": [
    "# sanity check 2\n",
    "df['recurrence'].unique()"
   ]
  },
  {
   "cell_type": "markdown",
   "id": "indirect-occasions",
   "metadata": {},
   "source": [
    "## Data preparation"
   ]
  },
  {
   "cell_type": "markdown",
   "id": "distributed-commonwealth",
   "metadata": {},
   "source": [
    "### Mode within a class"
   ]
  },
  {
   "cell_type": "markdown",
   "id": "alert-desperate",
   "metadata": {},
   "source": [
    "**Mode for negatives:**"
   ]
  },
  {
   "cell_type": "code",
   "execution_count": 12,
   "id": "fitting-router",
   "metadata": {},
   "outputs": [
    {
     "data": {
      "text/plain": [
       "recurrence     0\n",
       "age            0\n",
       "menopause      0\n",
       "tumor-size     0\n",
       "inv-nodes      0\n",
       "node-caps      5\n",
       "deg-malig      0\n",
       "breast         0\n",
       "breast-quad    0\n",
       "irradiat       0\n",
       "dtype: int64"
      ]
     },
     "execution_count": 12,
     "metadata": {},
     "output_type": "execute_result"
    }
   ],
   "source": [
    "df_neg = df[df['recurrence'] == 'no']\n",
    "df_neg.isnull().sum()"
   ]
  },
  {
   "cell_type": "code",
   "execution_count": 13,
   "id": "joint-dispatch",
   "metadata": {},
   "outputs": [
    {
     "name": "stderr",
     "output_type": "stream",
     "text": [
      "/home/dittohead/ml3.8/lib/python3.8/site-packages/pandas/core/indexing.py:1738: SettingWithCopyWarning: \n",
      "A value is trying to be set on a copy of a slice from a DataFrame.\n",
      "Try using .loc[row_indexer,col_indexer] = value instead\n",
      "\n",
      "See the caveats in the documentation: https://pandas.pydata.org/pandas-docs/stable/user_guide/indexing.html#returning-a-view-versus-a-copy\n",
      "  self._setitem_single_column(loc, value[:, i].tolist(), pi)\n"
     ]
    },
    {
     "data": {
      "text/plain": [
       "recurrence     0\n",
       "age            0\n",
       "menopause      0\n",
       "tumor-size     0\n",
       "inv-nodes      0\n",
       "node-caps      0\n",
       "deg-malig      0\n",
       "breast         0\n",
       "breast-quad    0\n",
       "irradiat       0\n",
       "dtype: int64"
      ]
     },
     "execution_count": 13,
     "metadata": {},
     "output_type": "execute_result"
    }
   ],
   "source": [
    "imp = SimpleImputer(strategy = 'most_frequent')\n",
    "df_neg.iloc[:] = imp.fit_transform(df_neg)\n",
    "df_neg.isnull().sum()"
   ]
  },
  {
   "cell_type": "markdown",
   "id": "communist-equality",
   "metadata": {},
   "source": [
    "**Mode for positives:**"
   ]
  },
  {
   "cell_type": "code",
   "execution_count": 14,
   "id": "worse-failing",
   "metadata": {},
   "outputs": [
    {
     "data": {
      "text/plain": [
       "recurrence     0\n",
       "age            0\n",
       "menopause      0\n",
       "tumor-size     0\n",
       "inv-nodes      0\n",
       "node-caps      3\n",
       "deg-malig      0\n",
       "breast         0\n",
       "breast-quad    1\n",
       "irradiat       0\n",
       "dtype: int64"
      ]
     },
     "execution_count": 14,
     "metadata": {},
     "output_type": "execute_result"
    }
   ],
   "source": [
    "df_pos = df[df['recurrence'] == 'yes']\n",
    "df_pos.isnull().sum()"
   ]
  },
  {
   "cell_type": "code",
   "execution_count": 15,
   "id": "utility-medicine",
   "metadata": {},
   "outputs": [
    {
     "name": "stderr",
     "output_type": "stream",
     "text": [
      "/home/dittohead/ml3.8/lib/python3.8/site-packages/pandas/core/indexing.py:1738: SettingWithCopyWarning: \n",
      "A value is trying to be set on a copy of a slice from a DataFrame.\n",
      "Try using .loc[row_indexer,col_indexer] = value instead\n",
      "\n",
      "See the caveats in the documentation: https://pandas.pydata.org/pandas-docs/stable/user_guide/indexing.html#returning-a-view-versus-a-copy\n",
      "  self._setitem_single_column(loc, value[:, i].tolist(), pi)\n"
     ]
    },
    {
     "data": {
      "text/plain": [
       "recurrence     0\n",
       "age            0\n",
       "menopause      0\n",
       "tumor-size     0\n",
       "inv-nodes      0\n",
       "node-caps      0\n",
       "deg-malig      0\n",
       "breast         0\n",
       "breast-quad    0\n",
       "irradiat       0\n",
       "dtype: int64"
      ]
     },
     "execution_count": 15,
     "metadata": {},
     "output_type": "execute_result"
    }
   ],
   "source": [
    "imp = SimpleImputer(strategy = 'most_frequent')\n",
    "df_pos.iloc[:] = imp.fit_transform(df_pos)\n",
    "df_pos.isnull().sum()"
   ]
  },
  {
   "cell_type": "markdown",
   "id": "complex-compression",
   "metadata": {},
   "source": [
    "Concatenation:"
   ]
  },
  {
   "cell_type": "code",
   "execution_count": 16,
   "id": "searching-fortune",
   "metadata": {},
   "outputs": [
    {
     "data": {
      "text/plain": [
       "(286, 10)"
      ]
     },
     "execution_count": 16,
     "metadata": {},
     "output_type": "execute_result"
    }
   ],
   "source": [
    "df = df_neg.append(df_pos, sort = False)\n",
    "df.shape # sanity check"
   ]
  },
  {
   "cell_type": "markdown",
   "id": "confidential-elephant",
   "metadata": {},
   "source": [
    "### Model & metric selection"
   ]
  },
  {
   "cell_type": "markdown",
   "id": "illegal-zimbabwe",
   "metadata": {},
   "source": [
    "Since the dataset is relatively small and contains categorical variables only I'm going to use a versatile **RandomTreeClassifier**. <br>\n",
    "When solving health-related problems, **maximizing recall** (emphasizing ability to detect a disease and start treatment) is often a good starting point."
   ]
  },
  {
   "cell_type": "markdown",
   "id": "talented-walter",
   "metadata": {},
   "source": [
    "### Categorical features encoding"
   ]
  },
  {
   "cell_type": "markdown",
   "id": "diverse-posting",
   "metadata": {},
   "source": [
    "Scikit-learn doesn't support using categorical variables in the original format, one-hot encoding is necessary."
   ]
  },
  {
   "cell_type": "code",
   "execution_count": 17,
   "id": "retired-focus",
   "metadata": {},
   "outputs": [],
   "source": [
    "df = pd.get_dummies(df, columns = ['age', 'menopause', 'tumor-size', 'inv-nodes', \n",
    "                              'node-caps', 'deg-malig', 'breast', 'breast-quad', 'irradiat'])\n",
    "X_df = df.drop(columns = ['recurrence'])"
   ]
  },
  {
   "cell_type": "code",
   "execution_count": 18,
   "id": "military-wheat",
   "metadata": {},
   "outputs": [
    {
     "data": {
      "text/html": [
       "<div>\n",
       "<style scoped>\n",
       "    .dataframe tbody tr th:only-of-type {\n",
       "        vertical-align: middle;\n",
       "    }\n",
       "\n",
       "    .dataframe tbody tr th {\n",
       "        vertical-align: top;\n",
       "    }\n",
       "\n",
       "    .dataframe thead th {\n",
       "        text-align: right;\n",
       "    }\n",
       "</style>\n",
       "<table border=\"1\" class=\"dataframe\">\n",
       "  <thead>\n",
       "    <tr style=\"text-align: right;\">\n",
       "      <th></th>\n",
       "      <th>age_20-29</th>\n",
       "      <th>age_30-39</th>\n",
       "      <th>age_40-49</th>\n",
       "      <th>age_50-59</th>\n",
       "      <th>age_60-69</th>\n",
       "      <th>age_70-79</th>\n",
       "      <th>menopause_ge40</th>\n",
       "      <th>menopause_lt40</th>\n",
       "      <th>menopause_premeno</th>\n",
       "      <th>tumor-size_0-4</th>\n",
       "      <th>...</th>\n",
       "      <th>deg-malig_3</th>\n",
       "      <th>breast_left</th>\n",
       "      <th>breast_right</th>\n",
       "      <th>breast-quad_central</th>\n",
       "      <th>breast-quad_left_low</th>\n",
       "      <th>breast-quad_left_up</th>\n",
       "      <th>breast-quad_right_low</th>\n",
       "      <th>breast-quad_right_up</th>\n",
       "      <th>irradiat_no</th>\n",
       "      <th>irradiat_yes</th>\n",
       "    </tr>\n",
       "  </thead>\n",
       "  <tbody>\n",
       "    <tr>\n",
       "      <th>0</th>\n",
       "      <td>0</td>\n",
       "      <td>1</td>\n",
       "      <td>0</td>\n",
       "      <td>0</td>\n",
       "      <td>0</td>\n",
       "      <td>0</td>\n",
       "      <td>0</td>\n",
       "      <td>0</td>\n",
       "      <td>1</td>\n",
       "      <td>0</td>\n",
       "      <td>...</td>\n",
       "      <td>1</td>\n",
       "      <td>1</td>\n",
       "      <td>0</td>\n",
       "      <td>0</td>\n",
       "      <td>1</td>\n",
       "      <td>0</td>\n",
       "      <td>0</td>\n",
       "      <td>0</td>\n",
       "      <td>1</td>\n",
       "      <td>0</td>\n",
       "    </tr>\n",
       "    <tr>\n",
       "      <th>1</th>\n",
       "      <td>0</td>\n",
       "      <td>0</td>\n",
       "      <td>1</td>\n",
       "      <td>0</td>\n",
       "      <td>0</td>\n",
       "      <td>0</td>\n",
       "      <td>0</td>\n",
       "      <td>0</td>\n",
       "      <td>1</td>\n",
       "      <td>0</td>\n",
       "      <td>...</td>\n",
       "      <td>0</td>\n",
       "      <td>0</td>\n",
       "      <td>1</td>\n",
       "      <td>0</td>\n",
       "      <td>0</td>\n",
       "      <td>0</td>\n",
       "      <td>0</td>\n",
       "      <td>1</td>\n",
       "      <td>1</td>\n",
       "      <td>0</td>\n",
       "    </tr>\n",
       "    <tr>\n",
       "      <th>2</th>\n",
       "      <td>0</td>\n",
       "      <td>0</td>\n",
       "      <td>1</td>\n",
       "      <td>0</td>\n",
       "      <td>0</td>\n",
       "      <td>0</td>\n",
       "      <td>0</td>\n",
       "      <td>0</td>\n",
       "      <td>1</td>\n",
       "      <td>0</td>\n",
       "      <td>...</td>\n",
       "      <td>0</td>\n",
       "      <td>1</td>\n",
       "      <td>0</td>\n",
       "      <td>0</td>\n",
       "      <td>1</td>\n",
       "      <td>0</td>\n",
       "      <td>0</td>\n",
       "      <td>0</td>\n",
       "      <td>1</td>\n",
       "      <td>0</td>\n",
       "    </tr>\n",
       "    <tr>\n",
       "      <th>3</th>\n",
       "      <td>0</td>\n",
       "      <td>0</td>\n",
       "      <td>0</td>\n",
       "      <td>0</td>\n",
       "      <td>1</td>\n",
       "      <td>0</td>\n",
       "      <td>1</td>\n",
       "      <td>0</td>\n",
       "      <td>0</td>\n",
       "      <td>0</td>\n",
       "      <td>...</td>\n",
       "      <td>0</td>\n",
       "      <td>0</td>\n",
       "      <td>1</td>\n",
       "      <td>0</td>\n",
       "      <td>0</td>\n",
       "      <td>1</td>\n",
       "      <td>0</td>\n",
       "      <td>0</td>\n",
       "      <td>1</td>\n",
       "      <td>0</td>\n",
       "    </tr>\n",
       "    <tr>\n",
       "      <th>4</th>\n",
       "      <td>0</td>\n",
       "      <td>0</td>\n",
       "      <td>1</td>\n",
       "      <td>0</td>\n",
       "      <td>0</td>\n",
       "      <td>0</td>\n",
       "      <td>0</td>\n",
       "      <td>0</td>\n",
       "      <td>1</td>\n",
       "      <td>1</td>\n",
       "      <td>...</td>\n",
       "      <td>0</td>\n",
       "      <td>0</td>\n",
       "      <td>1</td>\n",
       "      <td>0</td>\n",
       "      <td>0</td>\n",
       "      <td>0</td>\n",
       "      <td>1</td>\n",
       "      <td>0</td>\n",
       "      <td>1</td>\n",
       "      <td>0</td>\n",
       "    </tr>\n",
       "    <tr>\n",
       "      <th>...</th>\n",
       "      <td>...</td>\n",
       "      <td>...</td>\n",
       "      <td>...</td>\n",
       "      <td>...</td>\n",
       "      <td>...</td>\n",
       "      <td>...</td>\n",
       "      <td>...</td>\n",
       "      <td>...</td>\n",
       "      <td>...</td>\n",
       "      <td>...</td>\n",
       "      <td>...</td>\n",
       "      <td>...</td>\n",
       "      <td>...</td>\n",
       "      <td>...</td>\n",
       "      <td>...</td>\n",
       "      <td>...</td>\n",
       "      <td>...</td>\n",
       "      <td>...</td>\n",
       "      <td>...</td>\n",
       "      <td>...</td>\n",
       "      <td>...</td>\n",
       "    </tr>\n",
       "    <tr>\n",
       "      <th>281</th>\n",
       "      <td>0</td>\n",
       "      <td>1</td>\n",
       "      <td>0</td>\n",
       "      <td>0</td>\n",
       "      <td>0</td>\n",
       "      <td>0</td>\n",
       "      <td>0</td>\n",
       "      <td>0</td>\n",
       "      <td>1</td>\n",
       "      <td>0</td>\n",
       "      <td>...</td>\n",
       "      <td>0</td>\n",
       "      <td>1</td>\n",
       "      <td>0</td>\n",
       "      <td>0</td>\n",
       "      <td>0</td>\n",
       "      <td>1</td>\n",
       "      <td>0</td>\n",
       "      <td>0</td>\n",
       "      <td>1</td>\n",
       "      <td>0</td>\n",
       "    </tr>\n",
       "    <tr>\n",
       "      <th>282</th>\n",
       "      <td>0</td>\n",
       "      <td>1</td>\n",
       "      <td>0</td>\n",
       "      <td>0</td>\n",
       "      <td>0</td>\n",
       "      <td>0</td>\n",
       "      <td>0</td>\n",
       "      <td>0</td>\n",
       "      <td>1</td>\n",
       "      <td>0</td>\n",
       "      <td>...</td>\n",
       "      <td>1</td>\n",
       "      <td>1</td>\n",
       "      <td>0</td>\n",
       "      <td>0</td>\n",
       "      <td>0</td>\n",
       "      <td>1</td>\n",
       "      <td>0</td>\n",
       "      <td>0</td>\n",
       "      <td>0</td>\n",
       "      <td>1</td>\n",
       "    </tr>\n",
       "    <tr>\n",
       "      <th>283</th>\n",
       "      <td>0</td>\n",
       "      <td>0</td>\n",
       "      <td>0</td>\n",
       "      <td>0</td>\n",
       "      <td>1</td>\n",
       "      <td>0</td>\n",
       "      <td>1</td>\n",
       "      <td>0</td>\n",
       "      <td>0</td>\n",
       "      <td>0</td>\n",
       "      <td>...</td>\n",
       "      <td>0</td>\n",
       "      <td>0</td>\n",
       "      <td>1</td>\n",
       "      <td>0</td>\n",
       "      <td>0</td>\n",
       "      <td>1</td>\n",
       "      <td>0</td>\n",
       "      <td>0</td>\n",
       "      <td>1</td>\n",
       "      <td>0</td>\n",
       "    </tr>\n",
       "    <tr>\n",
       "      <th>284</th>\n",
       "      <td>0</td>\n",
       "      <td>0</td>\n",
       "      <td>1</td>\n",
       "      <td>0</td>\n",
       "      <td>0</td>\n",
       "      <td>0</td>\n",
       "      <td>1</td>\n",
       "      <td>0</td>\n",
       "      <td>0</td>\n",
       "      <td>0</td>\n",
       "      <td>...</td>\n",
       "      <td>1</td>\n",
       "      <td>1</td>\n",
       "      <td>0</td>\n",
       "      <td>0</td>\n",
       "      <td>1</td>\n",
       "      <td>0</td>\n",
       "      <td>0</td>\n",
       "      <td>0</td>\n",
       "      <td>1</td>\n",
       "      <td>0</td>\n",
       "    </tr>\n",
       "    <tr>\n",
       "      <th>285</th>\n",
       "      <td>0</td>\n",
       "      <td>0</td>\n",
       "      <td>0</td>\n",
       "      <td>1</td>\n",
       "      <td>0</td>\n",
       "      <td>0</td>\n",
       "      <td>1</td>\n",
       "      <td>0</td>\n",
       "      <td>0</td>\n",
       "      <td>0</td>\n",
       "      <td>...</td>\n",
       "      <td>1</td>\n",
       "      <td>1</td>\n",
       "      <td>0</td>\n",
       "      <td>0</td>\n",
       "      <td>1</td>\n",
       "      <td>0</td>\n",
       "      <td>0</td>\n",
       "      <td>0</td>\n",
       "      <td>1</td>\n",
       "      <td>0</td>\n",
       "    </tr>\n",
       "  </tbody>\n",
       "</table>\n",
       "<p>286 rows × 41 columns</p>\n",
       "</div>"
      ],
      "text/plain": [
       "     age_20-29  age_30-39  age_40-49  age_50-59  age_60-69  age_70-79  \\\n",
       "0            0          1          0          0          0          0   \n",
       "1            0          0          1          0          0          0   \n",
       "2            0          0          1          0          0          0   \n",
       "3            0          0          0          0          1          0   \n",
       "4            0          0          1          0          0          0   \n",
       "..         ...        ...        ...        ...        ...        ...   \n",
       "281          0          1          0          0          0          0   \n",
       "282          0          1          0          0          0          0   \n",
       "283          0          0          0          0          1          0   \n",
       "284          0          0          1          0          0          0   \n",
       "285          0          0          0          1          0          0   \n",
       "\n",
       "     menopause_ge40  menopause_lt40  menopause_premeno  tumor-size_0-4  ...  \\\n",
       "0                 0               0                  1               0  ...   \n",
       "1                 0               0                  1               0  ...   \n",
       "2                 0               0                  1               0  ...   \n",
       "3                 1               0                  0               0  ...   \n",
       "4                 0               0                  1               1  ...   \n",
       "..              ...             ...                ...             ...  ...   \n",
       "281               0               0                  1               0  ...   \n",
       "282               0               0                  1               0  ...   \n",
       "283               1               0                  0               0  ...   \n",
       "284               1               0                  0               0  ...   \n",
       "285               1               0                  0               0  ...   \n",
       "\n",
       "     deg-malig_3  breast_left  breast_right  breast-quad_central  \\\n",
       "0              1            1             0                    0   \n",
       "1              0            0             1                    0   \n",
       "2              0            1             0                    0   \n",
       "3              0            0             1                    0   \n",
       "4              0            0             1                    0   \n",
       "..           ...          ...           ...                  ...   \n",
       "281            0            1             0                    0   \n",
       "282            1            1             0                    0   \n",
       "283            0            0             1                    0   \n",
       "284            1            1             0                    0   \n",
       "285            1            1             0                    0   \n",
       "\n",
       "     breast-quad_left_low  breast-quad_left_up  breast-quad_right_low  \\\n",
       "0                       1                    0                      0   \n",
       "1                       0                    0                      0   \n",
       "2                       1                    0                      0   \n",
       "3                       0                    1                      0   \n",
       "4                       0                    0                      1   \n",
       "..                    ...                  ...                    ...   \n",
       "281                     0                    1                      0   \n",
       "282                     0                    1                      0   \n",
       "283                     0                    1                      0   \n",
       "284                     1                    0                      0   \n",
       "285                     1                    0                      0   \n",
       "\n",
       "     breast-quad_right_up  irradiat_no  irradiat_yes  \n",
       "0                       0            1             0  \n",
       "1                       1            1             0  \n",
       "2                       0            1             0  \n",
       "3                       0            1             0  \n",
       "4                       0            1             0  \n",
       "..                    ...          ...           ...  \n",
       "281                     0            1             0  \n",
       "282                     0            0             1  \n",
       "283                     0            1             0  \n",
       "284                     0            1             0  \n",
       "285                     0            1             0  \n",
       "\n",
       "[286 rows x 41 columns]"
      ]
     },
     "execution_count": 18,
     "metadata": {},
     "output_type": "execute_result"
    }
   ],
   "source": [
    "X_df # predictors matrix"
   ]
  },
  {
   "cell_type": "code",
   "execution_count": 19,
   "id": "objective-payday",
   "metadata": {},
   "outputs": [],
   "source": [
    "y_df = df['recurrence']\n",
    "y_df = y_df.replace({'no': 0, 'yes': 1})"
   ]
  },
  {
   "cell_type": "code",
   "execution_count": 20,
   "id": "mobile-medicine",
   "metadata": {},
   "outputs": [
    {
     "data": {
      "text/plain": [
       "0      0\n",
       "1      0\n",
       "2      0\n",
       "3      0\n",
       "4      0\n",
       "      ..\n",
       "281    1\n",
       "282    1\n",
       "283    1\n",
       "284    1\n",
       "285    1\n",
       "Name: recurrence, Length: 286, dtype: int64"
      ]
     },
     "execution_count": 20,
     "metadata": {},
     "output_type": "execute_result"
    }
   ],
   "source": [
    "y_df # target variable vector"
   ]
  },
  {
   "cell_type": "markdown",
   "id": "tracked-renewal",
   "metadata": {},
   "source": [
    "### Splitting the data"
   ]
  },
  {
   "cell_type": "markdown",
   "id": "armed-namibia",
   "metadata": {},
   "source": [
    "On account of poor-balanced classes I will **use stratify** to preserve a distribution and make sure there will be enough positives both in train and test sets."
   ]
  },
  {
   "cell_type": "code",
   "execution_count": 21,
   "id": "independent-manchester",
   "metadata": {},
   "outputs": [],
   "source": [
    "X_train, X_test, y_train, y_test = train_test_split(X_df, y_df, test_size = 0.3, \n",
    "                                                    shuffle = True, stratify = y_df)"
   ]
  },
  {
   "cell_type": "markdown",
   "id": "sixth-convenience",
   "metadata": {},
   "source": [
    "### Grid search"
   ]
  },
  {
   "cell_type": "markdown",
   "id": "descending-inquiry",
   "metadata": {},
   "source": [
    "When tuning hyperparameters I will focus on the most impactful ones only:\n",
    "* number of max_features (the most important according to [this article](https://arxiv.org/abs/1804.03515) - for low-dimensional data $\\sqrt{d}$ is often a good starting point);\n",
    "* bootstrap sample size (try sample size smaller than the training set, based on [this article](http://arantxa.ii.uam.es/~gonzalo/publications/MarSua09_preprint.pdf));\n",
    "* number of classifiers (try multiplying by a constant factor, based on [this article](https://link.springer.com/chapter/10.1007%2F978-3-642-31537-4_13));\n",
    "* minimum number of samples at a leaf node."
   ]
  },
  {
   "cell_type": "code",
   "execution_count": 22,
   "id": "fitted-going",
   "metadata": {},
   "outputs": [],
   "source": [
    "param_grid = { \n",
    "    'max_features': [3, 4, 5, 6], # sqrt(d), sqrt(d) + 1, sqrt(d) + 2, sqrt(d) + 3\n",
    "    'max_samples': [0.5, 0.75, 1],\n",
    "    'n_estimators': [128, 256, 512], # * 2\n",
    "    'min_samples_leaf': [1, 2, 3]\n",
    "}"
   ]
  },
  {
   "cell_type": "code",
   "execution_count": 23,
   "id": "promising-douglas",
   "metadata": {},
   "outputs": [],
   "source": [
    "rfc = RandomForestClassifier()"
   ]
  },
  {
   "cell_type": "markdown",
   "id": "vital-taylor",
   "metadata": {},
   "source": [
    "First, let's use grid search (with `StratifiedKFold` to preserve poor-balanced classes distrubition in each fold) to pick hyperparameters that maximize recall. <br>\n",
    "<font color = 'gray'> This process is fairly random, so you may want to run experiments multiple times. </font>"
   ]
  },
  {
   "cell_type": "code",
   "execution_count": 24,
   "id": "increased-glasgow",
   "metadata": {},
   "outputs": [
    {
     "data": {
      "text/plain": [
       "GridSearchCV(cv=StratifiedKFold(n_splits=10, random_state=None, shuffle=False),\n",
       "             estimator=RandomForestClassifier(), n_jobs=-1,\n",
       "             param_grid={'max_features': [3, 4, 5, 6],\n",
       "                         'max_samples': [0.5, 0.75, 1],\n",
       "                         'min_samples_leaf': [1, 2, 3],\n",
       "                         'n_estimators': [128, 256, 512]},\n",
       "             scoring='recall')"
      ]
     },
     "execution_count": 24,
     "metadata": {},
     "output_type": "execute_result"
    }
   ],
   "source": [
    "skf = StratifiedKFold(n_splits = 10)\n",
    "CV_rfc = GridSearchCV(estimator = rfc, scoring = 'recall', param_grid = param_grid, cv = skf, n_jobs = -1)\n",
    "CV_rfc.fit(X_train, y_train)"
   ]
  },
  {
   "cell_type": "code",
   "execution_count": 25,
   "id": "funny-hamilton",
   "metadata": {},
   "outputs": [
    {
     "data": {
      "text/plain": [
       "{'max_features': 5,\n",
       " 'max_samples': 0.75,\n",
       " 'min_samples_leaf': 1,\n",
       " 'n_estimators': 128}"
      ]
     },
     "execution_count": 25,
     "metadata": {},
     "output_type": "execute_result"
    }
   ],
   "source": [
    "CV_rfc.best_params_"
   ]
  },
  {
   "cell_type": "code",
   "execution_count": 26,
   "id": "competitive-anthony",
   "metadata": {},
   "outputs": [
    {
     "data": {
      "image/png": "[encoded data removed]",
      "text/plain": [
       "<Figure size 432x288 with 2 Axes>"
      ]
     },
     "metadata": {
      "needs_background": "light"
     },
     "output_type": "display_data"
    }
   ],
   "source": [
    "plot_confusion_matrix(CV_rfc, X_test, y_test)  \n",
    "plt.show();"
   ]
  },
  {
   "cell_type": "code",
   "execution_count": 27,
   "id": "antique-madonna",
   "metadata": {},
   "outputs": [
    {
     "name": "stdout",
     "output_type": "stream",
     "text": [
      "recall =  0.2692307692307692\n",
      "accuracy =  0.7209302325581395\n"
     ]
    }
   ],
   "source": [
    "y_pred = CV_rfc.predict(X_test)\n",
    "\n",
    "print('recall = ', recall_score(y_test, y_pred))\n",
    "print('accuracy = ', accuracy_score(y_test, y_pred))"
   ]
  },
  {
   "cell_type": "markdown",
   "id": "compliant-while",
   "metadata": {},
   "source": [
    "This approach alone **doesn't yield satisfying results**. Although the accuracy is relatively good (according to many publications, for example [this one](https://www.academia.edu/5149415/The_Multi_Purpose_Incremental_Learning_System_AQ15_and_Its_Testing_Application_to_Three_Medical_Domains)), **more than 50% of patient with breast cancer still wouldn't be diagnosed**.\n",
    "<br>\n",
    "One of the possible ways of increasing recall is to **search for a best discrimination threshold**."
   ]
  },
  {
   "cell_type": "code",
   "execution_count": 28,
   "id": "current-bearing",
   "metadata": {},
   "outputs": [],
   "source": [
    "y_probs = CV_rfc.predict_proba(X_test)[:, 1] # probabilities that recurrence events will occur"
   ]
  },
  {
   "cell_type": "code",
   "execution_count": 29,
   "id": "micro-stock",
   "metadata": {},
   "outputs": [],
   "source": [
    "p, r, thresholds = precision_recall_curve(y_test, y_probs)"
   ]
  },
  {
   "cell_type": "code",
   "execution_count": 30,
   "id": "advance-armstrong",
   "metadata": {},
   "outputs": [
    {
     "data": {
      "image/png": "[encoded data removed]",
      "text/plain": [
       "<Figure size 576x576 with 1 Axes>"
      ]
     },
     "metadata": {},
     "output_type": "display_data"
    }
   ],
   "source": [
    "plt.style.use('seaborn')\n",
    "plt.figure(figsize = (8, 8))\n",
    "plt.title('Precision & Recall scores vs decision threshold')\n",
    "\n",
    "plt.plot(thresholds, p[:-1], 'b--', label = 'Precision')\n",
    "plt.plot(thresholds, r[:-1], 'r--', label = 'Recall')\n",
    "         \n",
    "plt.ylabel('Score')\n",
    "plt.xlabel('Decision Threshold')\n",
    "plt.legend();"
   ]
  },
  {
   "cell_type": "markdown",
   "id": "plastic-freight",
   "metadata": {},
   "source": [
    "<font color = 'gray'> This is a modified version of the plot from [this article](https://towardsdatascience.com/fine-tuning-a-classifier-in-scikit-learn-66e048c21e65). </font>"
   ]
  },
  {
   "cell_type": "markdown",
   "id": "unavailable-colonial",
   "metadata": {},
   "source": [
    "As expected, decreasing the decision threshold increases recall score. <br>"
   ]
  },
  {
   "cell_type": "code",
   "execution_count": 31,
   "id": "legitimate-position",
   "metadata": {},
   "outputs": [
    {
     "name": "stdout",
     "output_type": "stream",
     "text": [
      "Best threshold: 0.0390625\n",
      "recall =  1.0\n",
      "accuracy =  0.4186046511627907\n"
     ]
    }
   ],
   "source": [
    "# determine best threshold\n",
    "rec_ind = np.where(r == 1.)[0][-1] # the biggest index where recall = 1\n",
    "best_thr = thresholds[rec_ind]\n",
    "print(f'Best threshold: {best_thr}')\n",
    "\n",
    "y_pred = CV_rfc.predict_proba(X_test)[:, 1]\n",
    "y_pred = (y_pred >= best_thr) * 1\n",
    "\n",
    "# final scores\n",
    "print('recall = ', recall_score(y_test, y_pred))\n",
    "print('accuracy = ', accuracy_score(y_test, y_pred))"
   ]
  },
  {
   "cell_type": "markdown",
   "id": "processed-disaster",
   "metadata": {},
   "source": [
    "**Note that returning 1 for each patient has a recall = 1.0 and accuracy = 0.297 only!**"
   ]
  },
  {
   "cell_type": "markdown",
   "id": "former-saying",
   "metadata": {},
   "source": [
    "## Summary"
   ]
  },
  {
   "cell_type": "markdown",
   "id": "annoying-endorsement",
   "metadata": {},
   "source": [
    "I've built a model for predicting if recurrence events will occur. <br>\n",
    "Model's recall is 1.0 which means that there is a great chance every potentially endangered patient will be treated. <br>\n",
    "Model's accuracy is low, but please keep in mind that this dataset \"*is not sufficient to completely discriminate between cases*\" ([source](https://www.academia.edu/5149415/The_Multi_Purpose_Incremental_Learning_System_AQ15_and_Its_Testing_Application_to_Three_Medical_Domains)). Originally, specialists' accuracy was 64% only. <br>"
   ]
  }
 ],
 "metadata": {
  "kernelspec": {
   "display_name": "Python 3",
   "language": "python",
   "name": "python3"
  },
  "language_info": {
   "codemirror_mode": {
    "name": "ipython",
    "version": 3
   },
   "file_extension": ".py",
   "mimetype": "text/x-python",
   "name": "python",
   "nbconvert_exporter": "python",
   "pygments_lexer": "ipython3",
   "version": "3.8.5"
  }
 },
 "nbformat": 4,
 "nbformat_minor": 5
}
